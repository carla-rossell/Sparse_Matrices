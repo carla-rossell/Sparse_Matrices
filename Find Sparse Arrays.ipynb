{
 "cells": [
  {
   "cell_type": "markdown",
   "metadata": {},
   "source": [
    "## Extract Properties and Sparse Matrices from every FOV"
   ]
  },
  {
   "cell_type": "markdown",
   "metadata": {},
   "source": [
    "Import packages"
   ]
  },
  {
   "cell_type": "code",
   "execution_count": null,
   "metadata": {},
   "outputs": [],
   "source": [
    "import glob\n",
    "import h5py\n",
    "from skimage.measure import label, regionprops\n",
    "from matplotlib import pyplot as plt\n",
    "import numpy as np\n",
    "from scipy.sparse import csr_matrix\n",
    "import cv2"
   ]
  },
  {
   "cell_type": "markdown",
   "metadata": {},
   "source": [
    "Define sorting scripts"
   ]
  },
  {
   "cell_type": "code",
   "execution_count": null,
   "metadata": {},
   "outputs": [],
   "source": [
    "def custom_sorth5(name_fov): \n",
    "    [other,value]=name_fov.split('sub')\n",
    "    [value,other,other]=value.split('_')    \n",
    "    return value\n",
    "def custom_sortdapi(name_dapi): \n",
    "    [other,value]=name_dapi.split('sub')\n",
    "    [value,other]=value.split('.')    \n",
    "    return value"
   ]
  },
  {
   "cell_type": "markdown",
   "metadata": {},
   "source": [
    "Read .h5 and .tif file and sort the list"
   ]
  },
  {
   "cell_type": "code",
   "execution_count": null,
   "metadata": {},
   "outputs": [],
   "source": [
    "#Read all h5 files in a directory. \n",
    "h5_files=glob.glob('*.h5')\n",
    "h5_files.sort(key=custom_sorth5)\n",
    "#print(h5_files)\n",
    "\n",
    "dapi_files=glob.glob('*.tif')\n",
    "dapi_files.sort(key=custom_sortdapi)\n",
    "#Get all the FOVs and arrange them in the position\n",
    "#To get the range we have to add one\n",
    "number_fovs=np.arange(1,len(h5_files)+1)\n",
    "#fov_matrix=np.array(number_fovs).reshape(rows,columns)\n",
    "fov_matrix=np.array(number_fovs).reshape(23,25)\n",
    "\n",
    "dapi_fov_counter=0\n",
    "all_fov_properties=[]\n",
    "all_fov_sparses=[]"
   ]
  },
  {
   "cell_type": "markdown",
   "metadata": {},
   "source": [
    "Iterate over the FOVs and extract sparse arrays"
   ]
  },
  {
   "cell_type": "code",
   "execution_count": null,
   "metadata": {},
   "outputs": [],
   "source": [
    "for current_fov in h5_files:    \n",
    "    coord_list=[]\n",
    "    area_list=[]\n",
    "    fov_list=[]\n",
    "    #The h5 extension  is 'exported_data'\n",
    "    #name_fov=h5_files[0]\n",
    "    name_fov=current_fov\n",
    "    fov = h5py.File(name_fov, 'r')\n",
    "    mask=fov['/exported_watershed_masks'][:]\n",
    "    mask_reduced=np.squeeze(mask, axis=2)\n",
    "\n",
    "    #Get DAPI fov \n",
    "    dapi_fov= cv2.imread(dapi_files[dapi_fov_counter],cv2.IMREAD_GRAYSCALE)\n",
    "    \n",
    "    #Check which position the FOV occupies within the big scan\n",
    "    #Position of FOV ilastik_masks_watershed1.h5\n",
    "    [other,value]=name_fov.split('sub')\n",
    "    [value,other,other]=value.split('_')\n",
    "    (x,y)=np.where(fov_matrix==int(value))\n",
    "    \n",
    "    \n",
    "   \n",
    "    \n",
    "    #Label the  mask\n",
    "    mask_label=label(mask_reduced)\n",
    "    plt.imshow(mask_reduced)\n",
    "    type(mask)\n",
    "    [height,width]=mask_reduced.shape\n",
    "    \n",
    "\n",
    "    #fig, ax = plt.subplots(figsize=(10, 6))\n",
    "    #ax.imshow(mask_label)\n",
    "    sparse_in_fov=np.zeros([1024,1024,np.amax(mask_label)])\n",
    "    z_dimension=0\n",
    "    for i in range(0,np.amax(mask_label)+1):\n",
    "        xmask,ymask=np.where(mask_label==i)\n",
    "        single_cell_mask=np.zeros([1024,1024])\n",
    "        sparse_in_fov= np.insert(sparse_in_fov, z_dimension, single_cell_mask, axis=2)\n",
    "        z_dimension= z_dimension+1\n",
    "    #Regionprops. Extract properties from  each nuclei\n",
    "    #Save all sparse array in the fov\n",
    "    all_fov_sparses.append(sparse_in_fov)\n",
    "    for region in regionprops(mask_label):\n",
    "        # take regions with large enough are4as\n",
    "        if region.area >  10:\n",
    "            single_sparse=csr_matrix(region)\n",
    "            # draw rectangle around segmented coins\n",
    "            coord_cen = region.centroid\n",
    "            coord_list.append((coord_cen))\n",
    "            area_list.append(region.area)\n",
    "            #minr, minc, maxr, maxc = region.bbox\n",
    "            #rect = mpatches.Rectangle((minc, minr), maxc - minc, maxr - minr,\n",
    "                                     # fill=False, edgecolor='red', linewidth=2)\n",
    "            fov_list.append((int(x),int(y)))\n",
    "            #ax.add_patch(rect)\n",
    "    #ax.set_axis_off()\n",
    "    #plt.tight_layout()\n",
    "    #plt.show()\n",
    "    single_fov_properties={\"Fov_Position\":fov_list,\"Centroids\":coord_list,\"Area\":area_list,\"Sparse\":sparse_in_fov}\n",
    "    all_fov_properties[current_fov]=single_fov_properties\n",
    "    \n",
    "    \n",
    "    #Move to the next dapi fov\n",
    "    dapi_fov_counter=dapi_fov_counter+1"
   ]
  },
  {
   "cell_type": "markdown",
   "metadata": {},
   "source": [
    "Save the data"
   ]
  },
  {
   "cell_type": "code",
   "execution_count": null,
   "metadata": {},
   "outputs": [],
   "source": [
    "np.savez('fov_data.npz',all_fov_properties=all_fov_properties,)\n"
   ]
  }
 ],
 "metadata": {
  "kernelspec": {
   "display_name": "Python 3",
   "language": "python",
   "name": "python3"
  },
  "language_info": {
   "codemirror_mode": {
    "name": "ipython",
    "version": 3
   },
   "file_extension": ".py",
   "mimetype": "text/x-python",
   "name": "python",
   "nbconvert_exporter": "python",
   "pygments_lexer": "ipython3",
   "version": "3.6.4"
  }
 },
 "nbformat": 4,
 "nbformat_minor": 2
}
